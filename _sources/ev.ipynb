{
 "cells": [
  {
   "cell_type": "code",
   "execution_count": 13,
   "id": "fundamental-migration",
   "metadata": {},
   "outputs": [],
   "source": [
    "import h5py\n",
    "import numpy as np\n",
    "import os\n",
    "import matplotlib.pyplot as plt\n",
    "import ipywidgets as widgets\n",
    "from ipywidgets import interact\n",
    "import pandas as pd\n",
    "from IPython.display import display, clear_output\n",
    "from matplotlib.colors import LinearSegmentedColormap\n",
    "cmap1 = LinearSegmentedColormap.from_list('rg',[\"r\", \"w\", \"g\"], N=256)"
   ]
  },
  {
   "cell_type": "code",
   "execution_count": 14,
   "id": "quiet-tender",
   "metadata": {},
   "outputs": [],
   "source": [
    "patientdf = pd.read_csv('TD_vf_vals.csv')\n",
    "displacements = pd.read_csv('VF_Locations.csv')"
   ]
  },
  {
   "cell_type": "code",
   "execution_count": 15,
   "id": "turkish-vault",
   "metadata": {},
   "outputs": [],
   "source": [
    "displacements['xpos']=displacements['x_morphed']\n",
    "displacements['ypos']=displacements['y_morphed']"
   ]
  },
  {
   "cell_type": "code",
   "execution_count": 16,
   "id": "demonstrated-extreme",
   "metadata": {},
   "outputs": [],
   "source": [
    "x = %system ls 'data/'\n",
    "patientnums = [i.split('-')[0] for i in x]\n",
    "patientthicks = [i.split('-')[1].replace('.hdf5','') for i in x]\n",
    "h5files = ['data/'+i for i in x]"
   ]
  },
  {
   "cell_type": "code",
   "execution_count": 17,
   "id": "advised-wagner",
   "metadata": {},
   "outputs": [],
   "source": [
    "numsunique = []\n",
    "for i in patientnums:\n",
    "    if i not in numsunique:\n",
    "        numsunique.append(i)\n",
    "thickunique = []\n",
    "for i in patientthicks:\n",
    "    if i not in thickunique:\n",
    "        thickunique.append(i)"
   ]
  },
  {
   "cell_type": "code",
   "execution_count": 18,
   "id": "devoted-imperial",
   "metadata": {},
   "outputs": [],
   "source": [
    "h5f = h5py.File(h5files[0],'r')\n",
    "for i in h5f['001/L'].keys():\n",
    "    yunique = [int(j) for j in h5f['001/L/'+str(i)+''].keys()]\n",
    "    yunique.sort(reverse=True)\n",
    "    xunique = yunique.copy()\n",
    "    break\n",
    "h5f.close()"
   ]
  },
  {
   "cell_type": "code",
   "execution_count": 19,
   "id": "apparent-jacob",
   "metadata": {},
   "outputs": [],
   "source": [
    "angles = pd.read_csv('angles_Complete.csv')"
   ]
  },
  {
   "cell_type": "code",
   "execution_count": 20,
   "id": "pleased-squad",
   "metadata": {},
   "outputs": [],
   "source": [
    "def closest(lst, K):\n",
    "    x = []\n",
    "    for i in range(len(lst)):\n",
    "        x.append(abs(lst.iloc[i]-K))\n",
    "    m = x.index(min(x))\n",
    "    return m"
   ]
  },
  {
   "cell_type": "code",
   "execution_count": 21,
   "id": "victorian-amino",
   "metadata": {},
   "outputs": [],
   "source": [
    "patientdf.loc[:,'VISIT_DATE'] = pd.to_datetime(patientdf.loc[:,'VISIT_DATE'],format='%m/%d/%y')"
   ]
  },
  {
   "cell_type": "code",
   "execution_count": 30,
   "id": "sublime-runner",
   "metadata": {},
   "outputs": [
    {
     "data": {
      "application/vnd.jupyter.widget-view+json": {
       "model_id": "a2830181916c4873a4c6061874273b93",
       "version_major": 2,
       "version_minor": 0
      },
      "text/plain": [
       "interactive(children=(Dropdown(description='Patient', options=('001', '007'), value='001'), Dropdown(descripti…"
      ]
     },
     "metadata": {},
     "output_type": "display_data"
    }
   ],
   "source": [
    "\n",
    "h5f = h5py.File(h5files[0],'r')\n",
    "def ploteye(patient='001',eyeside='L',t=0,gridpts=640,tness='GCIPL',\n",
    "            opacity1=1.0,opacity2=1.0):\n",
    "\n",
    "    \n",
    "    patient_num = patient\n",
    "    localangle = np.abs(angles.loc[angles['AGPS']=='AGPS'+patient_num,'angle'].iloc[0]) *np.pi/180\n",
    "    totalheight = 30*np.sin(localangle) + 25*np.cos(localangle)\n",
    "    totalwidth = 30*np.cos(localangle)\n",
    "\n",
    "    yfac=gridpts\n",
    "    xfac=gridpts\n",
    "    centerrangemin = int(0.2*gridpts)\n",
    "    centerrangemax = int(0.8*gridpts)\n",
    "\n",
    "    tstr = str(t)\n",
    "    if len(h5f.keys()) == 0:\n",
    "        return('Patient '+patient+\n",
    "               ',all NaNs (or unable to be interpolated)')\n",
    "    elif eyeside not in h5f[patient].keys():\n",
    "        return('Patient '+patient+' eyeside '+eyeside+\n",
    "               ',all NaNs (or unable to be interpolated)')\n",
    "    elif tstr not in h5f[patient+'/'+eyeside].keys():\n",
    "        return('Patient '+patient+' eyeside '+eyeside+' filenum '+tstr+\n",
    "               ', all NaNs (or unable to be interpolated)')\n",
    "    elif str(yfac) not in h5f[patient+'/'+eyeside+'/'+tstr].keys():\n",
    "        return('Patient '+patient+' eyeside '+eyeside+' filenum '+tstr+' resolution '+str(yfac)+\n",
    "               ', all NaNs (or unable to be interpolated)')\n",
    "    else:\n",
    "\n",
    "        if eyeside == 'R':\n",
    "            if os.path.exists('infrared/'+patient_num+'_OD_SPEC.JPG'):\n",
    "                im = plt.imread('infrared/'+patient_num+'_OD_SPEC.JPG')\n",
    "            elif os.path.exists('infrared/'+patient_num+'_OD_SPEC.jpg'):\n",
    "                im = plt.imread('infrared/'+patient_num+'_OD_SPEC.jpg')\n",
    "            else:\n",
    "                return('No '+patient_num+' R infrared image exists')\n",
    "        else:\n",
    "            if os.path.exists('infrared/'+patient_num+'_OS_SPEC.JPG'):\n",
    "                im = plt.imread('infrared/'+patient_num+'_OS_SPEC.JPG')\n",
    "            elif os.path.exists('infrared/'+patient_num+'_OS_SPEC.jpg'):\n",
    "                im = plt.imread('infrared/'+patient_num+'_OS_SPEC.jpg')\n",
    "            else:\n",
    "                return('No '+patient_num+' L infrared image exists')\n",
    "\n",
    "        fig = plt.figure(frameon=False)\n",
    "        fig.set_size_inches(5,5*totalheight/totalwidth)\n",
    "        ax = plt.Axes(fig, [0., 0., 1., 1.])\n",
    "        ax.set_axis_off()\n",
    "        fig.add_axes(ax)\n",
    "        ax.imshow(im, aspect='auto',extent=[0, totalwidth, 0, totalheight])\n",
    "\n",
    "\n",
    "        tmpdata = h5f[patient+'/'+eyeside+'/'+tstr+'/'+str(yfac)+'/'+str(xfac)+'/dataset'][:]\n",
    "        d = pd.to_datetime(h5f[patient+'/'+eyeside+'/'+tstr+'/'+str(yfac)+'/'+str(xfac)+'/dataset'].attrs['date'],format='%Y-%m-%d')\n",
    "        patient119Rv0 = patientdf.loc[patientdf['EID']=='AGPS'+patient_num+'_'+eyeside,:]\n",
    "        m = closest(patient119Rv0['VISIT_DATE'],d)\n",
    "\n",
    "        ax.imshow(tmpdata,\n",
    "                  aspect=1,\n",
    "                  origin='lower', cmap='inferno', #extent=[0, 24, 0, 24], \n",
    "                       extent=[(totalwidth-24)/2,\n",
    "                                          totalwidth-(totalwidth-24)/2,\n",
    "                                          (totalheight-24)/2,\n",
    "                                          totalheight-(totalheight-24)/2], \n",
    "                  vmin=np.amin(tmpdata[centerrangemin:centerrangemax,centerrangemin:centerrangemax]),\n",
    "                       vmax=np.amax(tmpdata[centerrangemin:centerrangemax,centerrangemin:centerrangemax]),\n",
    "                   alpha=opacity1)\n",
    "\n",
    "        p3 = ax.scatter(x=totalwidth/2.0-0.5 + displacements['xpos'],\n",
    "                    y=totalheight/2.0 - displacements['ypos'],\n",
    "                    c=patient119Rv0.iloc[m][-68:] - patient119Rv0.iloc[0][-68:],\n",
    "                    cmap = cmap1,\n",
    "                    s=100,\n",
    "                    alpha=opacity2,\n",
    "                    edgecolors='w',\n",
    "                    vmax=15,vmin=-15);\n",
    "        plt.colorbar(p3)\n",
    "        ax.set_title('OCT Date = '+h5f[patient+'/'+eyeside+'/'+tstr+'/'+str(yfac)+'/'+str(xfac)+'/dataset'].attrs['date']+'\\n'+\n",
    "                     'VF Date = '+patient119Rv0['VISIT_DATE'].iloc[m].strftime('%Y-%m-%d')+'\\n'+\n",
    "                    'VF Raw Value = '+patient119Rv0['VISIT_DATE'].iloc[0].strftime('%Y-%m-%d'))\n",
    "        display(fig)\n",
    "        clear_output(wait=True)\n",
    "        \n",
    "d1 = widgets.Dropdown(options=numsunique,description='Patient')\n",
    "d2 = widgets.Dropdown(options=['L','R'],description='Eyeside')\n",
    "d3 = widgets.Dropdown(options=thickunique,description='Layer',value='GCIPL')\n",
    "d4 = widgets.Dropdown(options=yunique,description='Grid Pts')\n",
    "s1 = widgets.IntSlider(min=0,\n",
    "                       max=len(h5f['001/L'].keys())-1)\n",
    "\n",
    "def valued1_changed(change):\n",
    "    global h5f\n",
    "    h5f.close()\n",
    "    h5f = h5py.File('data/'+change.new+'-'+d3.value+'.hdf5','r')\n",
    "    if len(h5f.keys()) == 0:\n",
    "        s1.max = 0\n",
    "    elif d2.value not in h5f[change.new].keys():\n",
    "        s1.max = 0\n",
    "    else:\n",
    "        s1.max = max(0,len(h5f[change.new+'/'+d2.value].keys())-1)\n",
    "    s1.value = 0\n",
    "d1.observe(valued1_changed, 'value')\n",
    "\n",
    "def valued2_changed(change):\n",
    "    if len(h5f.keys()) == 0:\n",
    "        s1.max = 0\n",
    "    elif change.new not in h5f[d1.value].keys():\n",
    "        s1.max = 0\n",
    "    else:\n",
    "        s1.max = max(0,len(h5f[d1.value+'/'+change.new].keys())-1)\n",
    "    s1.value = 0\n",
    "d2.observe(valued2_changed, 'value')\n",
    "\n",
    "def valued3_changed(change):\n",
    "    global h5f\n",
    "    h5f.close()\n",
    "    h5f = h5py.File('data/'+d1.value+'-'+change.new+'.hdf5','r')\n",
    "    if len(h5f.keys()) == 0:\n",
    "        s1.max = 0\n",
    "    elif d2.value not in h5f[d1.value].keys():\n",
    "        s1.max = 0\n",
    "    else:\n",
    "        s1.max = max(0,len(h5f[d1.value+'/'+d2.value].keys())-1)\n",
    "    s1.value = 0\n",
    "d3.observe(valued3_changed, 'value')\n",
    "\n",
    "interact(ploteye, \n",
    "         patient=d1, \n",
    "         eyeside=d2,\n",
    "         tness=d3,\n",
    "         gridpts=d4,\n",
    "         t=s1,opacity1=(0.0,1.0,0.1),opacity2=(0.0,1.0,0.1));"
   ]
  },
  {
   "cell_type": "code",
   "execution_count": null,
   "id": "functional-mattress",
   "metadata": {},
   "outputs": [],
   "source": []
  },
  {
   "cell_type": "code",
   "execution_count": null,
   "id": "essential-oriental",
   "metadata": {},
   "outputs": [],
   "source": []
  }
 ],
 "metadata": {
  "kernelspec": {
   "display_name": "Python 3 (ipykernel)",
   "language": "python",
   "name": "python3"
  },
  "language_info": {
   "codemirror_mode": {
    "name": "ipython",
    "version": 3
   },
   "file_extension": ".py",
   "mimetype": "text/x-python",
   "name": "python",
   "nbconvert_exporter": "python",
   "pygments_lexer": "ipython3",
   "version": "3.9.6"
  },
  "toc": {
   "base_numbering": 1,
   "nav_menu": {},
   "number_sections": true,
   "sideBar": true,
   "skip_h1_title": false,
   "title_cell": "Table of Contents",
   "title_sidebar": "Contents",
   "toc_cell": false,
   "toc_position": {},
   "toc_section_display": true,
   "toc_window_display": false
  }
 },
 "nbformat": 4,
 "nbformat_minor": 5
}
