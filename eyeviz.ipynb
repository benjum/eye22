{
 "cells": [
  {
   "cell_type": "code",
   "execution_count": null,
   "id": "890da4c3-5399-4076-9e48-64fb21d07cd7",
   "metadata": {},
   "outputs": [],
   "source": [
    "import eyeviz\n",
    "import h5py\n",
    "import numpy as np\n",
    "import os\n",
    "import matplotlib.pyplot as plt\n",
    "import ipywidgets as widgets\n",
    "from ipywidgets import interact\n",
    "import pandas as pd\n",
    "from IPython.display import display, clear_output\n",
    "from matplotlib.colors import LinearSegmentedColormap\n",
    "cmap1 = LinearSegmentedColormap.from_list('rg',[\"r\", \"w\", \"g\"], N=256)"
   ]
  },
  {
   "cell_type": "code",
   "execution_count": null,
   "id": "e35e744a-6dfa-43ce-a26f-83c58067a519",
   "metadata": {},
   "outputs": [],
   "source": [
    "h5f = h5py.File(eyeviz.h5files[0],'r')\n",
    "def ploteyew(patient='070',eyeside='L',t=0,gridpts=640,tness='GCIPL',opacity1=1.0,opacity2=1.0):\n",
    "    eyeviz.ploteye(h5f,patient,eyeside,t,gridpts,tness,opacity1,opacity2)\n",
    "    \n",
    "d1 = widgets.Dropdown(options=eyeviz.numsunique,description='Patient')\n",
    "d2 = widgets.Dropdown(options=['L','R'],description='Eyeside')\n",
    "d3 = widgets.Dropdown(options=eyeviz.thickunique,description='Layer',value='GCIPL')\n",
    "d4 = widgets.Dropdown(options=eyeviz.yunique,description='Grid Pts')\n",
    "s1 = widgets.IntSlider(min=0,max=len(h5f['070/L'].keys())-1)\n",
    "\n",
    "def valued1_changed(change):\n",
    "    global h5f\n",
    "    h5f.close()\n",
    "    h5f = h5py.File('data/'+change.new+'-'+d3.value+'.hdf5','r')\n",
    "    if len(h5f.keys()) == 0:\n",
    "        s1.max = 0\n",
    "    elif d2.value not in h5f[change.new].keys():\n",
    "        s1.max = 0\n",
    "    else:\n",
    "        s1.max = max(0,len(h5f[change.new+'/'+d2.value].keys())-1)\n",
    "    s1.value = 0\n",
    "d1.observe(valued1_changed, 'value')\n",
    "\n",
    "def valued2_changed(change):\n",
    "    if len(h5f.keys()) == 0:\n",
    "        s1.max = 0\n",
    "    elif change.new not in h5f[d1.value].keys():\n",
    "        s1.max = 0\n",
    "    else:\n",
    "        s1.max = max(0,len(h5f[d1.value+'/'+change.new].keys())-1)\n",
    "    s1.value = 0\n",
    "d2.observe(valued2_changed, 'value')\n",
    "\n",
    "def valued3_changed(change):\n",
    "    global h5f\n",
    "    h5f.close()\n",
    "    h5f = h5py.File('data/'+d1.value+'-'+change.new+'.hdf5','r')\n",
    "    if len(h5f.keys()) == 0:\n",
    "        s1.max = 0\n",
    "    elif d2.value not in h5f[d1.value].keys():\n",
    "        s1.max = 0\n",
    "    else:\n",
    "        s1.max = max(0,len(h5f[d1.value+'/'+d2.value].keys())-1)\n",
    "    s1.value = 0\n",
    "d3.observe(valued3_changed, 'value')\n",
    "\n",
    "interact(ploteyew,patient=d1,eyeside=d2,tness=d3,gridpts=d4,\n",
    "         t=s1,opacity1=(0.0,1.0,0.1),opacity2=(0.0,1.0,0.1));"
   ]
  }
 ],
 "metadata": {
  "kernelspec": {
   "display_name": "Python 3 (ipykernel)",
   "language": "python",
   "name": "python3"
  },
  "language_info": {
   "codemirror_mode": {
    "name": "ipython",
    "version": 3
   },
   "file_extension": ".py",
   "mimetype": "text/x-python",
   "name": "python",
   "nbconvert_exporter": "python",
   "pygments_lexer": "ipython3",
   "version": "3.7.12"
  }
 },
 "nbformat": 4,
 "nbformat_minor": 5
}
